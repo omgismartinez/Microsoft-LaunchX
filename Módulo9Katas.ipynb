{
  "cells": [
    {
      "cell_type": "markdown",
      "metadata": {},
      "source": [
        "# Ejercicio: Uso de funciones en Python"
      ]
    },
    {
      "cell_type": "markdown",
      "metadata": {},
      "source": [
        "### Ejercicio 1: Trabajar con argumentos en funciones\n",
        "\n",
        "Los argumentos requeridos en las funciones se utilizan cuando las funciones necesitan que esos argumentos funcionen correctamente. En este ejercicio, construirás un informe de combustible que requiere información de varias ubicaciones de combustible en todo el cohete.\n",
        "\n"
      ]
    },
    {
      "cell_type": "markdown",
      "metadata": {},
      "source": [
        "Comienza por crear una función que necesite tres lecturas de combustible y devuelva un informe:"
      ]
    },
    {
      "cell_type": "code",
      "execution_count": 4,
      "metadata": {},
      "outputs": [],
      "source": [
        "# Función para leer 3 tanques de combustible y muestre el promedio\n",
        "def combustublePromedio(tanqueUno, TanqueDos, TanqueTres):\n",
        "    promedio = (tanqueUno + TanqueDos +TanqueTres) / 3\n",
        "    return f\"\"\"\n",
        "        Tanque 1: {tanqueUno}%\n",
        "        Tanque 2: {TanqueDos}%\n",
        "        Tanque 3: {TanqueTres}%\n",
        "\n",
        "        Promedio total: {promedio}%\n",
        "    \"\"\"\n"
      ]
    },
    {
      "cell_type": "markdown",
      "metadata": {},
      "source": [
        "Ahora que hemos definido la función de informes, vamos a comprobarlo. Para esta misión, los tanques no están llenos:"
      ]
    },
    {
      "cell_type": "code",
      "execution_count": 5,
      "metadata": {},
      "outputs": [
        {
          "name": "stdout",
          "output_type": "stream",
          "text": [
            "\n",
            "        Tanque 1: 10%\n",
            "        Tanque 2: 9%\n",
            "        Tanque 3: 8%\n",
            "\n",
            "        Promedio total: 9.0%\n",
            "    \n"
          ]
        }
      ],
      "source": [
        "\n",
        "# Llamamos a la función que genera el reporte print(funcion(tanque1, tanque2, tanque3))\n",
        "print(combustublePromedio(10,9,8))"
      ]
    },
    {
      "cell_type": "markdown",
      "metadata": {},
      "source": [
        "En lugar de simplemente crear el informe, la función también está calculando el promedio. Mejora la legibilidad extrayendo el cálculo promedio de la función en una nueva función para que el promedio se pueda hacer de forma independiente:"
      ]
    },
    {
      "cell_type": "code",
      "execution_count": 14,
      "metadata": {},
      "outputs": [
        {
          "data": {
            "text/plain": [
              "9.0"
            ]
          },
          "execution_count": 14,
          "metadata": {},
          "output_type": "execute_result"
        }
      ],
      "source": [
        "# Función promedio \n",
        "def promedioIndependiente(values):\n",
        "    promedio = sum(values) / len(values)\n",
        "    return promedio\n",
        "\n",
        "promedioIndependiente([10,9,8])"
      ]
    },
    {
      "cell_type": "markdown",
      "metadata": {},
      "source": [
        "Ahora actualiza la función de informes para llamando a la nueva función del promedio:\n"
      ]
    },
    {
      "cell_type": "code",
      "execution_count": 16,
      "metadata": {},
      "outputs": [
        {
          "name": "stdout",
          "output_type": "stream",
          "text": [
            "\n",
            "        Tanque 1: 10%\n",
            "        Tanque 2: 9%\n",
            "        Tanque 3: 8%\n",
            "\n",
            "        Promedio total: 9.0%\n",
            "    \n"
          ]
        }
      ],
      "source": [
        "# Actualiza la función\n",
        "def combustublePromedio(tanqueUno, TanqueDos, TanqueTres):\n",
        "    promedio = promedioIndependiente([tanqueUno,TanqueDos,TanqueTres])\n",
        "    return f\"\"\"\n",
        "        Tanque 1: {tanqueUno}%\n",
        "        Tanque 2: {TanqueDos}%\n",
        "        Tanque 3: {TanqueTres}%\n",
        "\n",
        "        Promedio total: {promedio}%\n",
        "    \"\"\"\n",
        "\n",
        "print(combustublePromedio(10,9,8))"
      ]
    },
    {
      "cell_type": "markdown",
      "metadata": {},
      "source": [
        "## Ejercicio 2: Trabajo con argumentos de palabra clave"
      ]
    },
    {
      "cell_type": "markdown",
      "metadata": {},
      "source": [
        "### Ejercicio : Trabajar con argumentos de palabras clave en funciones\n",
        "En este ejercicio, construirás un informe de cohete que requiere varias piezas de información, como el tiempo hasta el destino, el combustible a la izquierda y el nombre del destino. Comienza por crear una función que creará un informe preciso de la misión:"
      ]
    },
    {
      "cell_type": "code",
      "execution_count": 29,
      "metadata": {},
      "outputs": [
        {
          "name": "stdout",
          "output_type": "stream",
          "text": [
            "\n",
            "    Destino de mision: UV\n",
            "    Tiempo total de vuelo: 155 minutos.\n",
            "    Combustible total: 35000 litros.\n",
            "    \n"
          ]
        }
      ],
      "source": [
        "# Función con un informe preciso de la misión. Considera hora de prelanzamiento, tiempo de vuelo, destino, tanque externo y tanque interno\n",
        "def informe(prelanzamiento, tiempo_vuelo, destino, taque_externo, taque_interno):\n",
        "    return f\"\"\"\n",
        "    Destino de mision: {destino}\n",
        "    Tiempo total de vuelo: {prelanzamiento + tiempo_vuelo} minutos.\n",
        "    Combustible total: {taque_externo + taque_interno} litros.\n",
        "    \"\"\"\n",
        "\n",
        "print(informe(15, 140, \"UV\", 15000, 20000))"
      ]
    },
    {
      "cell_type": "markdown",
      "metadata": {},
      "source": [
        "La función es problemática porque no se puede adaptar para minutos adicionales o tanques adicionales de combustible. Hazlo más flexible permitiendo cualquier número de pasos basados en el tiempo y cualquier número de tanques. En lugar de usar `*args` y `**kwargs`, aprovecha el hecho de que puedes usar cualquier nombre que desees. Asegurate que la función sea más legible mediante el uso de nombres de variables que están asociados con las entradas, como `*minutes` y `**fuel_reservoirs`:"
      ]
    },
    {
      "cell_type": "code",
      "execution_count": 37,
      "metadata": {},
      "outputs": [
        {
          "name": "stdout",
          "output_type": "stream",
          "text": [
            "\n",
            "    Destino de mision: UV\n",
            "    Tiempo total de vuelo: 170 minutos.\n",
            "    Combustible total: 35000 litros.\n",
            "    \n"
          ]
        }
      ],
      "source": [
        "# Escribe tu nueva función de reporte considerando lo anterior\n",
        "def reporte(destino, *minutos, **combustible):\n",
        "    return f\"\"\"\n",
        "    Destino de mision: {destino}\n",
        "    Tiempo total de vuelo: {sum(minutos)} minutos.\n",
        "    Combustible total: {sum(combustible.values())} litros.\n",
        "    \"\"\"\n",
        "\n",
        "print(reporte(\"UV\", 10, 140, 20, interno=15000, externo=20000))"
      ]
    },
    {
      "cell_type": "markdown",
      "metadata": {},
      "source": [
        "Debido a que el combustible que queda en los tanques es específico de cada tanque, actualiza la función para usar el nombre de cada tanque en el informe:"
      ]
    },
    {
      "cell_type": "code",
      "execution_count": 39,
      "metadata": {},
      "outputs": [
        {
          "name": "stdout",
          "output_type": "stream",
          "text": [
            "\n",
            "    Destino de mision: Moon\n",
            "    Tiempo total de vuelo: 170 minutos.\n",
            "    Combustible total: 35000 litros.\n",
            "       Interno --> 15000 litros\n",
            "       Externo --> 20000 litros\n",
            "    \n"
          ]
        }
      ],
      "source": [
        "# Escribe tu nueva función\n",
        "def combustibleDinamico(destination, *minutes, **combustible):\n",
        "    main_report = f\"\"\"\n",
        "    Destino de mision: {destination}\n",
        "    Tiempo total de vuelo: {sum(minutes)} minutos.\n",
        "    Combustible total: {sum(combustible.values())} litros.\n",
        "    \"\"\"\n",
        "    for nombre, litros in combustible.items():\n",
        "        main_report += f\"   {nombre} --> {litros} litros\\n    \"\n",
        "    return main_report\n",
        "\n",
        "print(combustibleDinamico(\"Moon\", 10, 140, 20, Interno=15000, Externo=20000))"
      ]
    }
  ],
  "metadata": {
    "interpreter": {
      "hash": "205095b8b86ea82a021a8fc2ffba2b3bc9f8d0be25999901963b225939f75778"
    },
    "kernelspec": {
      "display_name": "Python 3.8.10 64-bit ('tmp': conda)",
      "name": "python3"
    },
    "language_info": {
      "codemirror_mode": {
        "name": "ipython",
        "version": 3
      },
      "file_extension": ".py",
      "mimetype": "text/x-python",
      "name": "python",
      "nbconvert_exporter": "python",
      "pygments_lexer": "ipython3",
      "version": "3.10.2"
    },
    "nteract": {
      "version": "nteract-front-end@1.0.0"
    },
    "orig_nbformat": 4
  },
  "nbformat": 4,
  "nbformat_minor": 2
}
