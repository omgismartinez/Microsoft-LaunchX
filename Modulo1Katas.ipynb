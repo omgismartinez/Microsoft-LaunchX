{
  "cells": [
    {
      "cell_type": "markdown",
      "metadata": {},
      "source": [
        "## Tu primer programa\n",
        "\n",
        "Para crear este programa, deberás utilizar los conceptos que aprendiste en el último módulo. Usarás Jupyter Notebook en este ejercicio, que es una combinación de texto y código con la que puede interactuar. Finaliza el código siguiente para que el resultado muestre la fecha de hoy."
      ]
    },
    {
      "cell_type": "code",
      "execution_count": 3,
      "metadata": {},
      "outputs": [
        {
          "name": "stdout",
          "output_type": "stream",
          "text": [
            "Today's date is: 2022-02-09\n"
          ]
        }
      ],
      "source": [
        "from datetime import date\n",
        "\n",
        "print(\"Today's date is: \" + str(date.today()))"
      ]
    },
    {
      "cell_type": "markdown",
      "metadata": {},
      "source": [
        "## Construir un convertidor de unidades\n",
        "\n",
        "El oficial superior> \"Necesito una cosa más: un programa de conversión entre parsecs y años luz. Tener un programa de este tipo podría ser realmente útil en el puente para trazar nuestro curso\".\n",
        "\n",
        "Tú> \"¡Lo haré!\"\n"
      ]
    },
    {
      "cell_type": "code",
      "execution_count": 5,
      "metadata": {},
      "outputs": [
        {
          "name": "stdout",
          "output_type": "stream",
          "text": [
            "11 parsec, is 35.877159999999996 lightyears\n"
          ]
        }
      ],
      "source": [
        "parsec = 11\n",
        "\n",
        "lightyears = 3.26156\n",
        "\n",
        "print(str(parsec) + \" parsec, is \" + str(lightyears * parsec) + \" lightyears\")"
      ]
    },
    {
      "cell_type": "markdown",
      "metadata": {},
      "source": [
        "> [!TIP]\n",
        "> 1 parsec es 3.26156 años luz. Utiliza el operador de multiplicación."
      ]
    }
  ],
  "metadata": {
    "interpreter": {
      "hash": "d3db713976c9941eeb1cc82c8b2f498a2694a3aa572d09e33f5a310aea0a11ee"
    },
    "kernel_info": {
      "name": "conda-env-py37_default-py"
    },
    "kernelspec": {
      "display_name": "py37_default",
      "language": "python",
      "name": "python3"
    },
    "language_info": {
      "codemirror_mode": {
        "name": "ipython",
        "version": 3
      },
      "file_extension": ".py",
      "mimetype": "text/x-python",
      "name": "python",
      "nbconvert_exporter": "python",
      "pygments_lexer": "ipython3",
      "version": "3.10.2"
    },
    "nteract": {
      "version": "nteract-front-end@1.0.0"
    },
    "orig_nbformat": 4
  },
  "nbformat": 4,
  "nbformat_minor": 2
}
